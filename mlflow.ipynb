{
 "metadata": {
  "kernelspec": {
   "display_name": "Streamlit Notebook",
   "name": "streamlit"
  },
  "lastEditStatus": {
   "notebookId": "omldla2vdq3naxoo6x6f",
   "authorId": "9194869779210",
   "authorName": "MLFCTO_MAHDI",
   "authorEmail": "mahdi.askari@snowflake.com",
   "sessionId": "99360dc9-12f4-414d-ad64-dc39b4ce4111",
   "lastEditTime": 1743385677314
  }
 },
 "nbformat_minor": 5,
 "nbformat": 4,
 "cells": [
  {
   "cell_type": "code",
   "id": "3775908f-ca36-4846-8f38-5adca39217f2",
   "metadata": {
    "language": "python",
    "name": "cell1"
   },
   "source": "# Import python packages\nimport streamlit as st\nimport pandas as pd\n\n# We can also use Snowpark for our analyses!\nfrom snowflake.snowpark.context import get_active_session\nsession = get_active_session()\ntoken_data = session.connection._rest._token_request('ISSUE')\ntoken_extract = token_data['data']['sessionToken']\ntoken = token_extract\ntoken = f'\\\"{token_extract}\\\"'\nprint(token)",
   "execution_count": null,
   "outputs": []
  },
  {
   "cell_type": "code",
   "id": "e5f29abd-4a7f-4731-900c-e42db29be02f",
   "metadata": {
    "language": "python",
    "name": "cell4"
   },
   "outputs": [],
   "source": "!pip install mlflow",
   "execution_count": null
  },
  {
   "cell_type": "code",
   "id": "4f7c53ba-50c3-49c5-ace0-c35ead169553",
   "metadata": {
    "language": "python",
    "name": "cell2"
   },
   "outputs": [],
   "source": "!pip install opentelemetry-exporter-otlp-proto-grpc",
   "execution_count": null
  },
  {
   "cell_type": "code",
   "id": "766467c1-c6a9-44b7-82eb-35a8532bdddd",
   "metadata": {
    "language": "python",
    "name": "cell10"
   },
   "outputs": [],
   "source": "tracking_uri = \"http://mlflow-snowpark.bfey.svc.spcs.internal:5000\"\nos.environ['MLFLOW_TRACKING_USERNAME'] = \"mahdi\"\nos.environ['MLFLOW_TRACKING_PASSWORD'] = \"SuperSecurePassword\"\nmlflow.set_tracking_uri(tracking_uri)\n",
   "execution_count": null
  },
  {
   "cell_type": "code",
   "id": "c695373e-ac74-4b62-a1f1-08206cbd5c81",
   "metadata": {
    "language": "python",
    "name": "cell3"
   },
   "source": "from mlflow.models import infer_signature\nimport pandas as pd\nfrom sklearn import datasets\nfrom sklearn.model_selection import train_test_split\nfrom sklearn.linear_model import LogisticRegression\nfrom sklearn.metrics import accuracy_score, precision_score, recall_score, f1_score\n\n\n# Load the Iris dataset\nX, y = datasets.load_iris(return_X_y=True)\n\n# Split the data into training and test sets\nX_train, X_test, y_train, y_test = train_test_split(\n    X, y, test_size=0.2, random_state=42\n)\n\n# Define the model hyperparameters\nparams = {\n    \"solver\": \"lbfgs\",\n    \"max_iter\": 1000,\n    \"multi_class\": \"auto\",\n    \"random_state\": 8888,\n}\n\n# Train the model\nlr = LogisticRegression(**params)\nlr.fit(X_train, y_train)\n\n# Predict on the test set\ny_pred = lr.predict(X_test)\n\n# Calculate metrics\naccuracy = accuracy_score(y_test, y_pred)",
   "execution_count": null,
   "outputs": []
  },
  {
   "cell_type": "code",
   "id": "6df3e167-c8b4-4b55-b51b-6a8a83f71d92",
   "metadata": {
    "language": "python",
    "name": "cell5"
   },
   "outputs": [],
   "source": "# Create a new MLflow Experiment\nmlflow.set_experiment(\"MLflow Quickstart\")\n\n# Start an MLflow run\nwith mlflow.start_run():\n    # Log the hyperparameters\n    mlflow.log_params(params)\n\n    # Log the loss metric\n    mlflow.log_metric(\"accuracy\", accuracy)\n\n    # Set a tag that we can use to remind ourselves what this run was for\n    mlflow.set_tag(\"Training Info\", \"Basic LR model for iris data\")\n\n    # Infer the model signature\n    signature = infer_signature(X_train, lr.predict(X_train))\n\n    # Log the model\n    model_info = mlflow.sklearn.log_model(\n        sk_model=lr,\n        artifact_path=\"iris_model\",\n        signature=signature,\n        input_example=X_train,\n        registered_model_name=\"tracking-quickstart\",\n    )",
   "execution_count": null
  },
  {
   "cell_type": "code",
   "id": "78621c04-d9fd-41fe-b132-7a3b037e3fde",
   "metadata": {
    "language": "python",
    "name": "cell8"
   },
   "outputs": [],
   "source": "# Load the model back for predictions as a generic Python Function model\nloaded_model = mlflow.pyfunc.load_model(model_info.model_uri)\n\npredictions = loaded_model.predict(X_test)\n\niris_feature_names = datasets.load_iris().feature_names\n\nresult = pd.DataFrame(X_test, columns=iris_feature_names)\nresult[\"actual_class\"] = y_test\nresult[\"predicted_class\"] = predictions\n\nresult[:4]",
   "execution_count": null
  }
 ]
}